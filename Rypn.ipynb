{
 "cells": [
  {
   "cell_type": "code",
   "execution_count": null,
   "id": "0836fe47",
   "metadata": {},
   "outputs": [],
   "source": [
    "# https://plantcv.readthedocs.io/en/latest/transform_correct_color/\n",
    "# Load in plantcv & other needed packages\n",
    "from plantcv import plantcv as pcv\n",
    "import cv2\n",
    "from matplotlib.pylab import plt\n",
    "import pandas as pd\n",
    "from urllib.request import urlopen, urlretrieve\n",
    "from imageio import imread, imsave\n",
    "from matplotlib.pylab import plt\n",
    "import numpy as np\n",
    "import colorsys\n",
    "import matplotlib.colors as colors\n",
    "from plantcv import plantcv as pcv\n",
    "\n",
    "class options:\n",
    "    def __init__(self):\n",
    "        self.debug = \"plot\"\n",
    "        self.writeimg= False\n",
    "        self.result = \"color_tutorial_results.json\"\n",
    "        self.outdir = \".\"\n",
    "        \n",
    "# Get options\n",
    "args = options()\n",
    "\n",
    "# Set debug to the global parameter \n",
    "pcv.params.debug = args.debug"
   ]
  },
  {
   "cell_type": "markdown",
   "id": "0602e44b",
   "metadata": {},
   "source": [
    "## Example using an image of a ripe strawberry"
   ]
  },
  {
   "cell_type": "code",
   "execution_count": null,
   "id": "e9b4ee39",
   "metadata": {},
   "outputs": [],
   "source": [
    "ripe = imread('ripe2.PNG')"
   ]
  },
  {
   "cell_type": "code",
   "execution_count": null,
   "id": "fdadab3e",
   "metadata": {},
   "outputs": [],
   "source": [
    "plt.figure(figsize=(20,10));\n",
    "plt.imshow(ripe)"
   ]
  },
  {
   "cell_type": "code",
   "execution_count": null,
   "id": "b7395dc7",
   "metadata": {},
   "outputs": [],
   "source": [
    "hsv = colors.rgb_to_hsv(ripe)"
   ]
  },
  {
   "cell_type": "code",
   "execution_count": null,
   "id": "9b5b464c",
   "metadata": {},
   "outputs": [],
   "source": [
    "plt.figure(figsize=(10,5));\n",
    "plt.imshow(hsv[:,:,0], cmap='hsv');\n",
    "plt.colorbar();"
   ]
  },
  {
   "cell_type": "code",
   "execution_count": null,
   "id": "f6d4fdbc",
   "metadata": {},
   "outputs": [],
   "source": [
    "plt.figure(figsize=(10,5));\n",
    "plt.imshow(hsv[:,:,1], cmap='hsv');\n",
    "plt.colorbar();"
   ]
  },
  {
   "cell_type": "code",
   "execution_count": null,
   "id": "b196e159",
   "metadata": {},
   "outputs": [],
   "source": [
    "plt.figure(figsize=(10,5));\n",
    "plt.imshow(hsv[:,:,2], cmap='hsv');\n",
    "plt.colorbar();"
   ]
  },
  {
   "cell_type": "code",
   "execution_count": null,
   "id": "0f89f635",
   "metadata": {},
   "outputs": [],
   "source": [
    "#hmin= 0.4\n",
    "#hmax= 1\n",
    "#smin= 0.4\n",
    "#smax= 1\n",
    "#vmin= 75\n",
    "#vmax= 200\n",
    "\n",
    "hmin= 0.0\n",
    "hmax= 1\n",
    "smin= 0.4\n",
    "smax= 1\n",
    "vmin= 75\n",
    "vmax= 225"
   ]
  },
  {
   "cell_type": "code",
   "execution_count": null,
   "id": "c4573ca4",
   "metadata": {},
   "outputs": [],
   "source": [
    "h1 = hsv[:,:,0] > hmin \n",
    "h2 = hsv[:,:,0] < hmax \n",
    "s1 = hsv[:,:,1] > smin\n",
    "s2 = hsv[:,:,1] < smax\n",
    "v1 = hsv[:,:,2] > vmin\n",
    "v2 = hsv[:,:,2] < vmax\n",
    "\n",
    "binary_image = h1 & h2 & s1 & s2 & v1 & v2 "
   ]
  },
  {
   "cell_type": "code",
   "execution_count": null,
   "id": "1879956a",
   "metadata": {},
   "outputs": [],
   "source": [
    "plt.figure(figsize=(20,10));\n",
    "plt.imshow(binary_image)"
   ]
  },
  {
   "cell_type": "code",
   "execution_count": null,
   "id": "0cd1add2",
   "metadata": {},
   "outputs": [],
   "source": [
    "from scipy import ndimage\n",
    "\n",
    "\n",
    "after_dialation = ndimage.binary_dilation(binary_image, iterations=25)\n",
    "plt.figure(figsize = (10,20));\n",
    "plt.imshow(after_dialation, cmap='gray', vmin=0, vmax=1);\n",
    "plt.show()\n",
    "print(after_dialation)"
   ]
  },
  {
   "cell_type": "code",
   "execution_count": null,
   "id": "ce74b61e",
   "metadata": {},
   "outputs": [],
   "source": [
    "masked = pcv.apply_mask(img = ripe, mask = after_dialation, mask_color='black').astype(np.uint8)\n",
    "plt.imshow(masked)"
   ]
  },
  {
   "cell_type": "code",
   "execution_count": null,
   "id": "c0397a9c",
   "metadata": {},
   "outputs": [],
   "source": [
    "#The first index is the hue values.\n",
    "hue_value1 = masked[:,:,0]\n",
    "#The second index is the saturation levels.\n",
    "saturation_value1 = masked[:,:,1]\n",
    "#The third index is the color values.\n",
    "color_value1 = masked[:,:,2]"
   ]
  },
  {
   "cell_type": "code",
   "execution_count": null,
   "id": "7ce033b6",
   "metadata": {},
   "outputs": [],
   "source": [
    "hue_value1.mean()"
   ]
  },
  {
   "cell_type": "code",
   "execution_count": null,
   "id": "1c66acef",
   "metadata": {},
   "outputs": [],
   "source": [
    "saturation_value1.mean()"
   ]
  },
  {
   "cell_type": "code",
   "execution_count": null,
   "id": "67f852b8",
   "metadata": {},
   "outputs": [],
   "source": [
    "color_value1.mean()"
   ]
  },
  {
   "cell_type": "markdown",
   "id": "a55be2a5",
   "metadata": {},
   "source": [
    "## Example using a less ripe strawberry"
   ]
  },
  {
   "cell_type": "code",
   "execution_count": null,
   "id": "d1484a1f",
   "metadata": {},
   "outputs": [],
   "source": [
    "unripe = imread('unripe2.PNG')"
   ]
  },
  {
   "cell_type": "code",
   "execution_count": null,
   "id": "ae92be69",
   "metadata": {},
   "outputs": [],
   "source": [
    "plt.figure(figsize=(20,10));\n",
    "plt.imshow(unripe)"
   ]
  },
  {
   "cell_type": "code",
   "execution_count": null,
   "id": "b5b826f2",
   "metadata": {},
   "outputs": [],
   "source": [
    "hsv2 = colors.rgb_to_hsv(unripe)"
   ]
  },
  {
   "cell_type": "code",
   "execution_count": null,
   "id": "4c0ab632",
   "metadata": {},
   "outputs": [],
   "source": [
    "hmin= 0.0\n",
    "hmax= 1\n",
    "smin= 0.4\n",
    "smax= 1\n",
    "vmin= 75\n",
    "vmax= 225"
   ]
  },
  {
   "cell_type": "code",
   "execution_count": null,
   "id": "138784db",
   "metadata": {},
   "outputs": [],
   "source": [
    "h1 = hsv2[:,:,0] > hmin \n",
    "h2 = hsv2[:,:,0] < hmax \n",
    "s1 = hsv2[:,:,1] > smin\n",
    "s2 = hsv2[:,:,1] < smax\n",
    "v1 = hsv2[:,:,2] > vmin\n",
    "v2 = hsv2[:,:,2] < vmax\n",
    "\n",
    "binary_image2 = h1 & h2 & s1 & s2 & v1 & v2 "
   ]
  },
  {
   "cell_type": "code",
   "execution_count": null,
   "id": "6450a5c2",
   "metadata": {},
   "outputs": [],
   "source": [
    "plt.figure(figsize=(20,10));\n",
    "plt.imshow(binary_image2)"
   ]
  },
  {
   "cell_type": "code",
   "execution_count": null,
   "id": "6e8da4f8",
   "metadata": {},
   "outputs": [],
   "source": [
    "after_dialation2 = ndimage.binary_dilation(binary_image2, iterations=25)\n",
    "plt.figure(figsize = (10,20));\n",
    "plt.imshow(after_dialation2, cmap='gray', vmin=0, vmax=1);\n",
    "plt.show()\n",
    "print(after_dialation2)"
   ]
  },
  {
   "cell_type": "code",
   "execution_count": null,
   "id": "21b622c5",
   "metadata": {},
   "outputs": [],
   "source": [
    "masked2 = pcv.apply_mask(img = unripe, mask = after_dialation2, mask_color='black').astype(np.uint8)\n",
    "plt.imshow(masked2)"
   ]
  },
  {
   "cell_type": "code",
   "execution_count": null,
   "id": "810008e5",
   "metadata": {},
   "outputs": [],
   "source": [
    "#The first index is the hue values.\n",
    "hue_value2 = masked2[:,:,0]\n",
    "#The second index is the saturation values.\n",
    "saturation_value2 = masked2[:,:,1]\n",
    "#The third index is the color values.\n",
    "color_value2 = masked2[:,:,2]"
   ]
  },
  {
   "cell_type": "code",
   "execution_count": null,
   "id": "a6b9a10b",
   "metadata": {},
   "outputs": [],
   "source": [
    "hue_value2.mean()"
   ]
  },
  {
   "cell_type": "code",
   "execution_count": null,
   "id": "925969c7",
   "metadata": {},
   "outputs": [],
   "source": [
    "saturation_value2.mean()"
   ]
  },
  {
   "cell_type": "code",
   "execution_count": null,
   "id": "d6edf67e",
   "metadata": {},
   "outputs": [],
   "source": [
    "color_value2.mean()"
   ]
  },
  {
   "cell_type": "markdown",
   "id": "0da0c203",
   "metadata": {},
   "source": [
    "## Test with your own strawberry image!"
   ]
  },
  {
   "cell_type": "markdown",
   "id": "579134c3",
   "metadata": {},
   "source": [
    "Upload your photo."
   ]
  },
  {
   "cell_type": "code",
   "execution_count": null,
   "id": "8a930aa9",
   "metadata": {},
   "outputs": [],
   "source": [
    "myphoto = imread('IMG_***.JPG')"
   ]
  },
  {
   "cell_type": "markdown",
   "id": "aefb18a4",
   "metadata": {},
   "source": [
    "View your photo."
   ]
  },
  {
   "cell_type": "code",
   "execution_count": null,
   "id": "38531383",
   "metadata": {},
   "outputs": [],
   "source": [
    "plt.figure(figsize=(20,10));\n",
    "plt.imshow(myphoto)"
   ]
  },
  {
   "cell_type": "markdown",
   "id": "7bdeea3d",
   "metadata": {},
   "source": [
    "Convert red green blue photo."
   ]
  },
  {
   "cell_type": "code",
   "execution_count": null,
   "id": "25273f30",
   "metadata": {},
   "outputs": [],
   "source": [
    "hsv3 = colors.rgb_to_hsv(myphoto)"
   ]
  },
  {
   "cell_type": "markdown",
   "id": "e649788a",
   "metadata": {},
   "source": [
    "Use the following three cells if you need to look at the image to tweak the HSV thresholds."
   ]
  },
  {
   "cell_type": "code",
   "execution_count": null,
   "id": "80e71521",
   "metadata": {},
   "outputs": [],
   "source": [
    "#plt.figure(figsize=(10,5));\n",
    "#plt.imshow(hsv3[:,:,0], cmap='hsv');\n",
    "#plt.colorbar();"
   ]
  },
  {
   "cell_type": "code",
   "execution_count": null,
   "id": "da125226",
   "metadata": {},
   "outputs": [],
   "source": [
    "#plt.figure(figsize=(10,5));\n",
    "#plt.imshow(hsv3[:,:,1], cmap='hsv');\n",
    "#plt.colorbar();"
   ]
  },
  {
   "cell_type": "code",
   "execution_count": null,
   "id": "36305d91",
   "metadata": {},
   "outputs": [],
   "source": [
    "#plt.figure(figsize=(10,5));\n",
    "#plt.imshow(hsv3[:,:,2], cmap='hsv');\n",
    "#plt.colorbar();"
   ]
  },
  {
   "cell_type": "markdown",
   "id": "57cd08e6",
   "metadata": {},
   "source": [
    "Select the thresholds most appropriate for your image. You may need to use the three cells above to slightly adjust the values."
   ]
  },
  {
   "cell_type": "code",
   "execution_count": null,
   "id": "11c37156",
   "metadata": {},
   "outputs": [],
   "source": [
    "hmin= 0.0\n",
    "hmax= 1\n",
    "smin= 0.4\n",
    "smax= 1\n",
    "vmin= 75\n",
    "vmax= 225"
   ]
  },
  {
   "cell_type": "code",
   "execution_count": null,
   "id": "0531de25",
   "metadata": {},
   "outputs": [],
   "source": [
    "h1 = hsv3[:,:,0] > hmin \n",
    "h2 = hsv3[:,:,0] < hmax \n",
    "s1 = hsv3[:,:,1] > smin\n",
    "s2 = hsv3[:,:,1] < smax\n",
    "v1 = hsv3[:,:,2] > vmin\n",
    "v2 = hsv3[:,:,2] < vmax\n",
    "\n",
    "binary_image3 = h1 & h2 & s1 & s2 & v1 & v2 "
   ]
  },
  {
   "cell_type": "markdown",
   "id": "64141c96",
   "metadata": {},
   "source": [
    "Display the affects of threshold values on your image."
   ]
  },
  {
   "cell_type": "code",
   "execution_count": null,
   "id": "647a0b56",
   "metadata": {},
   "outputs": [],
   "source": [
    "plt.figure(figsize=(20,10));\n",
    "plt.imshow(binary_image3)"
   ]
  },
  {
   "cell_type": "markdown",
   "id": "439676da",
   "metadata": {},
   "source": [
    "Dialate the included region so that none of the fruit is left out. It may be helpful to. increase/decrease the number of iterations if your dialation is too large/small."
   ]
  },
  {
   "cell_type": "code",
   "execution_count": null,
   "id": "e79b0cd4",
   "metadata": {},
   "outputs": [],
   "source": [
    "after_dialation3 = ndimage.binary_dilation(binary_image3, iterations=50)\n",
    "plt.figure(figsize = (10,20));\n",
    "plt.imshow(after_dialation3, cmap='gray', vmin=0, vmax=1);\n",
    "plt.show()\n",
    "print(after_dialation3)"
   ]
  },
  {
   "cell_type": "markdown",
   "id": "7b2057fa",
   "metadata": {},
   "source": [
    "Apply the mask."
   ]
  },
  {
   "cell_type": "code",
   "execution_count": null,
   "id": "f5495eb9",
   "metadata": {},
   "outputs": [],
   "source": [
    "masked3 = pcv.apply_mask(img = myphoto, mask = after_dialation3, mask_color='black').astype(np.uint8)\n",
    "plt.imshow(masked3)"
   ]
  },
  {
   "cell_type": "markdown",
   "id": "3a1aca55",
   "metadata": {},
   "source": [
    "Assigning variables for HSV values from the 3D array."
   ]
  },
  {
   "cell_type": "code",
   "execution_count": null,
   "id": "7f1e90c4",
   "metadata": {},
   "outputs": [],
   "source": [
    "#MAGIC 0 is the hue values of the masked image.\n",
    "hue_value3 = masked3[:,:,0]\n",
    "#MAGIC 1 is the saturation values of the masked image.\n",
    "saturation_value3 = masked3[:,:,1]\n",
    "#MAGIC 0 is the color values of the masked image.\n",
    "color_value3 = masked3[:,:,2]"
   ]
  },
  {
   "cell_type": "markdown",
   "id": "bd357d67",
   "metadata": {},
   "source": [
    "Determine the average hue value."
   ]
  },
  {
   "cell_type": "code",
   "execution_count": null,
   "id": "aeae89a4",
   "metadata": {},
   "outputs": [],
   "source": [
    "hue_value3.mean()"
   ]
  },
  {
   "cell_type": "markdown",
   "id": "496d28a9",
   "metadata": {},
   "source": [
    "Determine the average saturation value."
   ]
  },
  {
   "cell_type": "code",
   "execution_count": null,
   "id": "767c7e38",
   "metadata": {},
   "outputs": [],
   "source": [
    "saturation_value3.mean()"
   ]
  },
  {
   "cell_type": "markdown",
   "id": "bbab4e04",
   "metadata": {},
   "source": [
    "Determine the average color value."
   ]
  },
  {
   "cell_type": "code",
   "execution_count": null,
   "id": "1b3ee765",
   "metadata": {},
   "outputs": [],
   "source": [
    "color_value3.mean()"
   ]
  },
  {
   "cell_type": "markdown",
   "id": "a3d5a86d",
   "metadata": {},
   "source": [
    "## Once many berries of varying ripeness have been analyzed, mean HSV values will be used to assign ripeness scores."
   ]
  },
  {
   "cell_type": "code",
   "execution_count": null,
   "id": "61b3a30f",
   "metadata": {},
   "outputs": [],
   "source": [
    "myphoto2 = imread('IMG_***.JPG')\n",
    "plt.figure(figsize=(20,10));\n",
    "plt.imshow(myphoto2)"
   ]
  },
  {
   "cell_type": "code",
   "execution_count": null,
   "id": "ab3961c0",
   "metadata": {},
   "outputs": [],
   "source": [
    "hsv4 = colors.rgb_to_hsv(myphoto2)"
   ]
  },
  {
   "cell_type": "code",
   "execution_count": null,
   "id": "70709574",
   "metadata": {},
   "outputs": [],
   "source": [
    "hmin= 0.0\n",
    "hmax= 1\n",
    "smin= 0.4\n",
    "smax= 1\n",
    "vmin= 75\n",
    "vmax= 225"
   ]
  },
  {
   "cell_type": "code",
   "execution_count": null,
   "id": "5891d3d8",
   "metadata": {},
   "outputs": [],
   "source": [
    "h1 = hsv4[:,:,0] > hmin \n",
    "h2 = hsv4[:,:,0] < hmax \n",
    "s1 = hsv4[:,:,1] > smin\n",
    "s2 = hsv4[:,:,1] < smax\n",
    "v1 = hsv4[:,:,2] > vmin\n",
    "v2 = hsv4[:,:,2] < vmax\n",
    "\n",
    "binary_image4 = h1 & h2 & s1 & s2 & v1 & v2 "
   ]
  },
  {
   "cell_type": "code",
   "execution_count": null,
   "id": "961bf1b2",
   "metadata": {},
   "outputs": [],
   "source": [
    "plt.figure(figsize=(20,10));\n",
    "plt.imshow(binary_image4)"
   ]
  },
  {
   "cell_type": "code",
   "execution_count": null,
   "id": "de0de87d",
   "metadata": {},
   "outputs": [],
   "source": [
    "after_dialation4 = ndimage.binary_dilation(binary_image4, iterations=25)\n",
    "plt.figure(figsize = (10,20));\n",
    "plt.imshow(after_dialation4, cmap='gray', vmin=0, vmax=1);\n",
    "plt.show()\n",
    "print(after_dialation4)"
   ]
  },
  {
   "cell_type": "code",
   "execution_count": null,
   "id": "0ea8fbff",
   "metadata": {},
   "outputs": [],
   "source": [
    "masked4 = pcv.apply_mask(img = myphoto2, mask = after_dialation4, mask_color='black').astype(np.uint8)\n",
    "plt.imshow(masked4)"
   ]
  },
  {
   "cell_type": "code",
   "execution_count": null,
   "id": "bd3512e8",
   "metadata": {},
   "outputs": [],
   "source": [
    "#MAGIC 0 is the hue values of the masked image.\n",
    "hue_value4 = masked4[:,:,0]\n",
    "#MAGIC 1 is the saturation values of the masked image.\n",
    "saturation_value4 = masked4[:,:,1]\n",
    "#MAGIC 0 is the color values of the masked image.\n",
    "color_value4 = masked4[:,:,2]"
   ]
  },
  {
   "cell_type": "code",
   "execution_count": null,
   "id": "1866ac98",
   "metadata": {},
   "outputs": [],
   "source": [
    "hue_value4.mean()"
   ]
  },
  {
   "cell_type": "code",
   "execution_count": null,
   "id": "4d3a8c93",
   "metadata": {},
   "outputs": [],
   "source": [
    "saturation_value4.mean()"
   ]
  },
  {
   "cell_type": "code",
   "execution_count": null,
   "id": "e6808f8e",
   "metadata": {},
   "outputs": [],
   "source": [
    "color_value4.mean()"
   ]
  }
 ],
 "metadata": {
  "kernelspec": {
   "display_name": "Python 3",
   "language": "python",
   "name": "python3"
  },
  "language_info": {
   "codemirror_mode": {
    "name": "ipython",
    "version": 3
   },
   "file_extension": ".py",
   "mimetype": "text/x-python",
   "name": "python",
   "nbconvert_exporter": "python",
   "pygments_lexer": "ipython3",
   "version": "3.8.8"
  }
 },
 "nbformat": 4,
 "nbformat_minor": 5
}
